{
 "cells": [
  {
   "cell_type": "code",
   "execution_count": 1,
   "metadata": {},
   "outputs": [],
   "source": [
    "import os\n"
   ]
  },
  {
   "cell_type": "code",
   "execution_count": 2,
   "metadata": {},
   "outputs": [
    {
     "data": {
      "text/plain": [
       "'e:\\\\End-to-End-Project\\\\Data-Science-first\\\\datascienceproject\\\\research'"
      ]
     },
     "execution_count": 2,
     "metadata": {},
     "output_type": "execute_result"
    }
   ],
   "source": [
    "%pwd"
   ]
  },
  {
   "cell_type": "code",
   "execution_count": 3,
   "metadata": {},
   "outputs": [
    {
     "data": {
      "text/plain": [
       "'e:\\\\End-to-End-Project\\\\Data-Science-first\\\\datascienceproject'"
      ]
     },
     "execution_count": 3,
     "metadata": {},
     "output_type": "execute_result"
    }
   ],
   "source": [
    "os.chdir('../')\n",
    "%pwd"
   ]
  },
  {
   "cell_type": "code",
   "execution_count": 4,
   "metadata": {},
   "outputs": [],
   "source": [
    "from dataclasses import dataclass\n",
    "from pathlib import Path"
   ]
  },
  {
   "cell_type": "code",
   "execution_count": 5,
   "metadata": {},
   "outputs": [],
   "source": [
    "@dataclass\n",
    "class ModelTrainerConfig:\n",
    "    root_dir: Path\n",
    "    train_data_path:Path\n",
    "    test_data_path: Path\n",
    "    model_name: str\n",
    "    alpha: float\n",
    "    l1_ratio: float\n",
    "    target_column: str"
   ]
  },
  {
   "cell_type": "code",
   "execution_count": 10,
   "metadata": {},
   "outputs": [],
   "source": [
    "from src.datascience.constant import *\n",
    "from src.datascience.utils.common import create_directories, read_yaml"
   ]
  },
  {
   "cell_type": "code",
   "execution_count": null,
   "metadata": {},
   "outputs": [],
   "source": [
    "class ConfigurationManager:\n",
    "    def __init__(self, con = CONFIG_FILE_PATH,\n",
    "                 par= PARAMS_FILE_PATH,\n",
    "                 sch = SCHEMA_FILE_PATH):\n",
    "        self.config = read_yaml(con)\n",
    "        self.parmas  = read_yaml(par)\n",
    "        self.schema = read_yaml(sch)\n",
    "\n",
    "        create_directories([self.config.artifacts_root])\n",
    "\n",
    "    def get_model_trainer_config(self) -> ModelTrainerConfig:\n",
    "        config = self.config.model_trainer\n",
    "        params = self.parmas.ElasticNet\n",
    "        schema  = self.schema.TARGET_COLUMN\n",
    "        \n",
    "        create_directories([config.root_dir])\n",
    "\n",
    "        modelTrainerconfig = ModelTrainerConfig(\n",
    "            root_dir = config.root_dir,\n",
    "            train_data_path= config.train_data_path,\n",
    "            test_data_path= config.test_data_path,\n",
    "            model_name= config.model_name,\n",
    "            alpha= params.alpha,\n",
    "            l1_ratio = params.l1_ratio,\n",
    "            target_column= schema.name\n",
    "        )\n",
    "\n",
    "        return modelTrainerconfig\n",
    "        "
   ]
  },
  {
   "cell_type": "code",
   "execution_count": 12,
   "metadata": {},
   "outputs": [],
   "source": [
    "import os\n",
    "import pandas as pd\n",
    "from sklearn.linear_model import ElasticNet\n",
    "from src.datascience import logger\n",
    "import joblib"
   ]
  },
  {
   "cell_type": "code",
   "execution_count": 21,
   "metadata": {},
   "outputs": [],
   "source": [
    "class ModelTrainer:\n",
    "    def __init__(self, config: ModelTrainerConfig):\n",
    "        self.config = config\n",
    "\n",
    "    def train(self):\n",
    "        train_x = pd.read_csv(self.config.train_data_path)\n",
    "        train_y = train_x.pop(self.config.target_column)\n",
    "\n",
    "        test_x = pd.read_csv(self.config.test_data_path)\n",
    "        test_y = test_x.pop(self.config.target_column)\n",
    "\n",
    "        En = ElasticNet(alpha=self.config.alpha, l1_ratio=self.config.l1_ratio, random_state=42) \n",
    "        En.fit(train_x, train_y)\n",
    "        logger.info(\"Model Trained!\")\n",
    "\n",
    "        joblib.dump(En, os.path.join(self.config.root_dir, self.config.model_name))\n",
    "        logger.info('Model Dumped!')"
   ]
  },
  {
   "cell_type": "code",
   "execution_count": 22,
   "metadata": {},
   "outputs": [
    {
     "name": "stdout",
     "output_type": "stream",
     "text": [
      "[ 2025-02-25 15:03:14,999 : INFO : common : yaml file: config\\config.yaml loaded successfully ]\n",
      "[ 2025-02-25 15:03:15,003 : INFO : common : yaml file: params.yaml loaded successfully ]\n",
      "[ 2025-02-25 15:03:15,008 : INFO : common : yaml file: schema.yaml loaded successfully ]\n",
      "[ 2025-02-25 15:03:15,010 : INFO : common : created directory at: artifacts ]\n",
      "[ 2025-02-25 15:03:15,013 : INFO : common : created directory at: artifacts/model_trainer ]\n",
      "[ 2025-02-25 15:03:15,086 : INFO : 3990415397 : Model Trained! ]\n",
      "[ 2025-02-25 15:03:15,091 : INFO : 3990415397 : Model Dumped! ]\n"
     ]
    }
   ],
   "source": [
    "try:\n",
    "    config = ConfigurationManager()\n",
    "    modelconfig = config.get_model_trainer_config()\n",
    "    modeltrain = ModelTrainer(modelconfig)\n",
    "    modeltrain.train()\n",
    "    \n",
    "except Exception as e:\n",
    "    raise e"
   ]
  },
  {
   "cell_type": "code",
   "execution_count": null,
   "metadata": {},
   "outputs": [],
   "source": []
  }
 ],
 "metadata": {
  "kernelspec": {
   "display_name": "myenv",
   "language": "python",
   "name": "python3"
  },
  "language_info": {
   "codemirror_mode": {
    "name": "ipython",
    "version": 3
   },
   "file_extension": ".py",
   "mimetype": "text/x-python",
   "name": "python",
   "nbconvert_exporter": "python",
   "pygments_lexer": "ipython3",
   "version": "3.13.1"
  }
 },
 "nbformat": 4,
 "nbformat_minor": 2
}
