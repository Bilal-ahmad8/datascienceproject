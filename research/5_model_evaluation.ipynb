{
 "cells": [
  {
   "cell_type": "code",
   "execution_count": 1,
   "metadata": {},
   "outputs": [
    {
     "data": {
      "text/plain": [
       "'e:\\\\End-to-End-Project\\\\Data-Science-first\\\\datascienceproject\\\\research'"
      ]
     },
     "execution_count": 1,
     "metadata": {},
     "output_type": "execute_result"
    }
   ],
   "source": [
    "import os\n",
    "%pwd"
   ]
  },
  {
   "cell_type": "code",
   "execution_count": 2,
   "metadata": {},
   "outputs": [
    {
     "data": {
      "text/plain": [
       "'e:\\\\End-to-End-Project\\\\Data-Science-first\\\\datascienceproject'"
      ]
     },
     "execution_count": 2,
     "metadata": {},
     "output_type": "execute_result"
    }
   ],
   "source": [
    "os.chdir('../')\n",
    "%pwd"
   ]
  },
  {
   "cell_type": "code",
   "execution_count": 3,
   "metadata": {},
   "outputs": [],
   "source": [
    "from dataclasses import dataclass\n",
    "from pathlib import Path"
   ]
  },
  {
   "cell_type": "code",
   "execution_count": null,
   "metadata": {},
   "outputs": [],
   "source": [
    "from dotenv import load_dotenv\n",
    "\n",
    "load_dotenv()\n",
    "os.environ[\"MLFLOW_TRACKING_URI\"]= os.getenv('MLFLOW_URI')\n",
    "os.environ[\"MLFLOW_TRACKING_USERNAME\"]=os.getenv('NAME')\n",
    "os.environ[\"MLFLOW_TRACKING_PASSWORD\"]= os.getenv('SECRET_ACCESS_KEY')"
   ]
  },
  {
   "cell_type": "code",
   "execution_count": 14,
   "metadata": {},
   "outputs": [],
   "source": [
    "@dataclass\n",
    "class ModelEvaluationConfig:\n",
    "    root_dir: Path\n",
    "    test_data_path: Path\n",
    "    model_path: Path\n",
    "    model_metrics_name: Path\n",
    "    all_params: dict\n",
    "    target_column: str\n",
    "    mlflow_uri: str"
   ]
  },
  {
   "cell_type": "code",
   "execution_count": 15,
   "metadata": {},
   "outputs": [],
   "source": [
    "from src.datascience.constant import *\n",
    "from src.datascience.utils.common import read_yaml, create_directories, save_json"
   ]
  },
  {
   "cell_type": "code",
   "execution_count": null,
   "metadata": {},
   "outputs": [],
   "source": [
    "class ConfigurationManger:\n",
    "    def __init__(self,\n",
    "                 config_filepath = CONFIG_FILE_PATH,\n",
    "                 schema_filepath = SCHEMA_FILE_PATH,\n",
    "                 params_filepath = PARAMS_FILE_PATH):\n",
    "        self.config = read_yaml(config_filepath)\n",
    "        self.params = read_yaml(params_filepath)\n",
    "        self.schema = read_yaml(schema_filepath)\n",
    "\n",
    "        create_directories([self.config.artifacts_root])\n",
    "\n",
    "    def get_model_evaluation_config(self) -> ModelEvaluationConfig:\n",
    "        config = self.config.model_evaluation\n",
    "        params = self.params.ElasticNet\n",
    "        schema = self.schema.TARGET_COLUMN\n",
    "\n",
    "        create_directories([config.root_dir])\n",
    "        \n",
    "        model_evaluation_config = ModelEvaluationConfig(\n",
    "            root_dir= config.root_dir,\n",
    "            test_data_path=config.test_data_path,\n",
    "            model_path = config.model_path,\n",
    "            model_metrics_name= config.model_metrics_name,\n",
    "            all_params = params,\n",
    "            target_column= schema.name,\n",
    "            mlflow_uri = 'https://dagshub.com/Bilal-ahmad8/datascienceproject.mlflow'\n",
    "        )\n",
    "        return model_evaluation_config\n"
   ]
  },
  {
   "cell_type": "code",
   "execution_count": 17,
   "metadata": {},
   "outputs": [],
   "source": [
    "import os\n",
    "import pandas as pd\n",
    "from sklearn.metrics import mean_absolute_error, mean_squared_error, r2_score\n",
    "import joblib\n",
    "import mlflow.sklearn\n",
    "import numpy as np\n",
    "from urllib.parse import urlparse\n",
    "from src.datascience import logger"
   ]
  },
  {
   "cell_type": "code",
   "execution_count": 18,
   "metadata": {},
   "outputs": [],
   "source": [
    "class ModelEvaluation:\n",
    "    def __init__(self, config= ModelEvaluationConfig):\n",
    "        self.config = config\n",
    "\n",
    "    def eval_metrics(self, actual, pred):\n",
    "        rmse = np.sqrt(mean_squared_error(actual, pred))\n",
    "        mae = mean_absolute_error(actual, pred)\n",
    "        r2Score = r2_score(actual,pred)\n",
    "        return rmse, mae, r2Score\n",
    "    \n",
    "\n",
    "    def log_into_mlflow(self):\n",
    "        data = pd.read_csv(self.config.test_data_path)\n",
    "\n",
    "        test_x = data.drop([self.config.target_column], axis=1)\n",
    "        test_y = data[[self.config.target_column]]\n",
    "\n",
    "        model = joblib.load(self.config.model_path)\n",
    "\n",
    "        mlflow.set_registry_uri(self.config.mlflow_uri)\n",
    "        #tracking_uri_type = urlparse(mlflow.get_tracking_uri()).scheme\n",
    "        \n",
    "        with mlflow.start_run():\n",
    "            pred = model.predict(test_x)\n",
    "            \n",
    "            (rmse, mae, r2) = self.eval_metrics(test_y, pred)\n",
    "\n",
    "            scores = {'rmse': rmse, \"mae\": mae, 'r2_score': r2}\n",
    "\n",
    "            save_json(path=Path(self.config.model_metrics_name), data=scores)\n",
    "\n",
    "            mlflow.log_params(self.config.all_params)\n",
    "            mlflow.log_metrics(scores)\n",
    "\n",
    "            mlflow.sklearn.log_model(model,\"model\")\n",
    "\n",
    "\n",
    "\n",
    "        "
   ]
  },
  {
   "cell_type": "code",
   "execution_count": 19,
   "metadata": {},
   "outputs": [
    {
     "name": "stdout",
     "output_type": "stream",
     "text": [
      "[ 2025-02-26 16:02:39,352 : INFO : common : yaml file: config\\config.yaml loaded successfully ]\n",
      "[ 2025-02-26 16:02:39,355 : INFO : common : yaml file: params.yaml loaded successfully ]\n",
      "[ 2025-02-26 16:02:39,359 : INFO : common : yaml file: schema.yaml loaded successfully ]\n",
      "[ 2025-02-26 16:02:39,360 : INFO : common : created directory at: artifacts ]\n",
      "[ 2025-02-26 16:02:39,363 : INFO : common : created directory at: artifacts/model_evaluation ]\n",
      "[ 2025-02-26 16:02:40,442 : INFO : common : json file saved at: artifacts\\model_evaluation\\metrics.json ]\n"
     ]
    },
    {
     "name": "stderr",
     "output_type": "stream",
     "text": [
      "2025/02/26 16:02:50 WARNING mlflow.models.model: Model logged without a signature and input example. Please set `input_example` parameter when logging the model to auto infer the model signature.\n"
     ]
    },
    {
     "name": "stdout",
     "output_type": "stream",
     "text": [
      "🏃 View run wise-swan-698 at: https://dagshub.com/Bilal-ahmad8/datascienceproject.mlflow/#/experiments/0/runs/1704f7ec3a5c49eb8ae3ab10370d100b\n",
      "🧪 View experiment at: https://dagshub.com/Bilal-ahmad8/datascienceproject.mlflow/#/experiments/0\n"
     ]
    }
   ],
   "source": [
    "try:\n",
    "    config = ConfigurationManger()\n",
    "    evaluate_config = config.get_model_evaluation_config()\n",
    "    evaluate = ModelEvaluation(evaluate_config)\n",
    "    evaluate.log_into_mlflow()\n",
    "\n",
    "except Exception as e:\n",
    "    raise e"
   ]
  },
  {
   "cell_type": "code",
   "execution_count": null,
   "metadata": {},
   "outputs": [],
   "source": []
  }
 ],
 "metadata": {
  "kernelspec": {
   "display_name": "myenv",
   "language": "python",
   "name": "python3"
  },
  "language_info": {
   "codemirror_mode": {
    "name": "ipython",
    "version": 3
   },
   "file_extension": ".py",
   "mimetype": "text/x-python",
   "name": "python",
   "nbconvert_exporter": "python",
   "pygments_lexer": "ipython3",
   "version": "3.13.1"
  }
 },
 "nbformat": 4,
 "nbformat_minor": 2
}
